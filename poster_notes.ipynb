{
 "cells": [
  {
   "cell_type": "markdown",
   "metadata": {},
   "source": [
    "# Poster Project\n",
    "# Student Name: Leela Krishna Kosaraju\n",
    "## Title: WebScraping Top Pharma Company Revenue From Wikipedia"
   ]
  },
  {
   "cell_type": "markdown",
   "metadata": {},
   "source": [
    "## Question/Goal: \n",
    "Find out which Pharmaceutical Company has the highest Revenue in the last three years?\n",
    "\n",
    "## How data was Collected:\n",
    "Below code was used to collect data from wikipedia. From the stated URL in the code, I took the table that was in that wikipedia website and stored it in a csv file. "
   ]
  },
  {
   "cell_type": "code",
   "execution_count": null,
   "metadata": {},
   "outputs": [],
   "source": [
    "from bs4 import BeautifulSoup\n",
    "import requests\n",
    "import pandas as pd\n",
    "\n",
    "URL=\"https://en.wikipedia.org/wiki/List_of_largest_pharmaceutical_companies_by_revenue\"\n",
    "response=requests.get(URL)\n",
    "soup=BeautifulSoup(response.text, 'html.parser')\n",
    "\n",
    "table= soup.find('table',{'class':'sortable wikitable'}).tbody\n",
    "\n",
    "rows=table.find_all('tr')\n",
    "\n",
    "columns=[v.text.replace('\\n','') for v in rows[0].find_all('th')]\n",
    "\n",
    "df= pd.DataFrame(columns=columns)\n",
    "\n",
    "for i in range(1, len(rows)):\n",
    "    tds=rows[i].find_all('td')\n",
    "    \n",
    "    if len(tds)==4:\n",
    "        values=[tds[0].text,tds[1].text.replace('\\n','').replace('\\xa0',''),'',\n",
    "                tds[2].text.replace('\\n','').replace('\\xa0',''),'','','','','','','','']\n",
    "    else:\n",
    "        values=[td.text.replace('\\n','').replace('\\xa0','') for td in tds]\n",
    "    \n",
    "    \n",
    "    df=df.append(pd.Series(values, index=columns), ignore_index=True)\n",
    "    \n",
    "    df.to_csv(r'C:\\Users\\S534629\\Downloads\\Web mining\\Assignments\\Project'+\n",
    "              'pharmatop10.csv',index=False)"
   ]
  },
  {
   "cell_type": "markdown",
   "metadata": {},
   "source": [
    "## Analysis Steps:\n",
    "\n",
    "- Using BeautifulSoup, Requests and Pandas modules, the table data from wikipedia was stored in a csv file \"pharmatop10.csv\".\n",
    "- The collected data is used to plot a graph using Matplotlib, Numpy and Pandas module.\n",
    "- First I defined function readcsv in which our file was read into a varable \"data\" and returned as an array\n",
    "- I stored the function's returned data into a variable \"data1\"\n",
    "- Then I stored different companies revenues according to their years in their respective arrays\n",
    "- Variable \"years\" stored the years of the revenue collected from the table\n",
    "- Then I plot a graph between Years and Companies arrays respectively choosing one company at a time.\n",
    "- Each plot was given the label as their comapny name and assigned different colors and markers to distinguish them.\n",
    "- The graph was given a title \"Pharma Company and their Revenue in last 3 years\" and X axis label as \"years\" and Y axis label as \"Revenue in USD billions\"\n",
    "- I set the Y axis limit from 0 to 90, so that the graph is clear and easily understood\n",
    "- Lastly I set the legend and saved the graph as \"pharma_graph.png\""
   ]
  },
  {
   "cell_type": "code",
   "execution_count": 2,
   "metadata": {},
   "outputs": [
    {
     "data": {
      "image/png": "[encoded data removed]",
      "text/plain": [
       "<Figure size 432x288 with 1 Axes>"
      ]
     },
     "metadata": {
      "needs_background": "light"
     },
     "output_type": "display_data"
    },
    {
     "data": {
      "text/plain": [
       "<Figure size 432x288 with 0 Axes>"
      ]
     },
     "metadata": {},
     "output_type": "display_data"
    }
   ],
   "source": [
    "import matplotlib.pyplot as plt\n",
    "import numpy as np\n",
    "import pandas as pd\n",
    "\n",
    "def readcsv(filename):\n",
    "    data = pd.read_csv(filename) \n",
    "    return(np.array(data))\n",
    "\n",
    "data1=readcsv('ProjectpharmaTop10.csv')\n",
    "\n",
    "#storing different companies yearwise revenues from the csv table\n",
    "JNJ=[data1[0][4],data1[0][5],data1[0][6]]\n",
    "Roche=[data1[1][4],data1[1][5],data1[1][6]]\n",
    "pfizer=[data1[2][4],data1[2][5],data1[2][6]]\n",
    "Novartis=[data1[3][4],data1[3][5],data1[3][6]]\n",
    "Bayer=[data1[4][4],data1[4][5],data1[4][6]]\n",
    "\n",
    "#storing years of revenue\n",
    "years=['2016','2017','2018']\n",
    "\n",
    "#plotting a line graph\n",
    "plt.plot(years,JNJ[::-1],'b.-',label='JNJ',marker=\"s\")\n",
    "plt.plot(years,Roche[::-1],'r.-',label='Roche',marker=\"P\")\n",
    "plt.plot(years,pfizer[::-1],'m.-',label='pfizer',marker=\"d\")\n",
    "plt.plot(years,Novartis[::-1],'y.-',label='Novartis',marker=\"o\")\n",
    "plt.plot(years,Bayer[::-1],'c.-',label='Bayer',marker=\"*\")\n",
    "\n",
    "plt.title('Pharma Company and their Revenue in last 3 years',fontweight='bold')\n",
    "plt.ylabel('Revenue in USD billions',fontweight='bold')\n",
    "plt.xlabel('Years',fontweight='bold')\n",
    "plt.ylim(0,90)\n",
    "plt.legend()\n",
    "plt.show()\n",
    "plt.savefig('pharma_graph.png',transparent='True')"
   ]
  },
  {
   "attachments": {},
   "cell_type": "markdown",
   "metadata": {},
   "source": [
    "## Results:\n",
    "\n",
    "The above graph represents the amount of revenue (USD billions) that the pharmaceutical companies vary in the last three years."
   ]
  },
  {
   "attachments": {},
   "cell_type": "markdown",
   "metadata": {},
   "source": [
    "## Conclusions:\n",
    "\n",
    "From the obtained Line Graph we can say that:\n",
    "\n",
    "- Johnson & Johnson(JNJ) Company has the highest revenue in all the three years and steadily increasing\n",
    "- Roche has 50 billion dollars revenue in 2016, 14% rise in the following year and maintained the same in 2018 \n",
    "- Pfizer has almost same revenue in past three years which was around 52billion\n",
    "- Novartis has slight increase in their revenue in 2018\n",
    "- Even though the Bayer having least revenue among the all in 2016 and 2017. In 2018 this company earned  drastic  rise in their revenue which was 45 billion dollars\n",
    "\n",
    "In last three years, Johnson & Johnson has always the highest revenue, and Bayer has always the lowest revenue compared to other pharmaceutical companies."
   ]
  }
 ],
 "metadata": {
  "kernelspec": {
   "display_name": "Python 3",
   "language": "python",
   "name": "python3"
  },
  "language_info": {
   "codemirror_mode": {
    "name": "ipython",
    "version": 3
   },
   "file_extension": ".py",
   "mimetype": "text/x-python",
   "name": "python",
   "nbconvert_exporter": "python",
   "pygments_lexer": "ipython3",
   "version": "3.7.3"
  }
 },
 "nbformat": 4,
 "nbformat_minor": 2
}
